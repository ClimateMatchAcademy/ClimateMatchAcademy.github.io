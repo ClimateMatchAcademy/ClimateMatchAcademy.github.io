{
 "cells": [
  {
   "cell_type": "markdown",
   "id": "2858bb8f",
   "metadata": {
    "execution": {}
   },
   "source": [
    "# Tutorial 1 - Limits to growth in World3: A toy world model of diminishing non-renewable resources\n",
    "\n",
    "Week 2, Day 3: IPCC Socio-economic Basis\n",
    "\n",
    "By Neuromatch Academy\n",
    "\n",
    "Content creators: Name Surname, Name Surname, Maximilian Puelma Touzel\n",
    "\n",
    "Content reviewers: Name Surname, Name Surname\n",
    "\n",
    "Content editors: Name Surname, Name Surname\n",
    "\n",
    "Production editors: Name Surname, Name Surname\n",
    "\n",
    "Our 2023 Sponsors"
   ]
  },
  {
   "cell_type": "markdown",
   "id": "SekAUenk1F8R",
   "metadata": {
    "execution": {}
   },
   "source": [
    "---"
   ]
  },
  {
   "cell_type": "markdown",
   "id": "EQcat4kN0AyT",
   "metadata": {
    "execution": {}
   },
   "source": [
    "# *Tutorial Objectives*\n",
    "Learn about nonlinear, coupled dynamics of various aggregated world system variables in one of the first toy world models that combined economic activity and the effects it has on the natural world, `World3`."
   ]
  },
  {
   "cell_type": "markdown",
   "id": "M1V4fv311VyL",
   "metadata": {
    "execution": {}
   },
   "source": [
    "---\n",
    "# Setup\n",
    "\n",
    "Import libaries"
   ]
  },
  {
   "cell_type": "code",
   "execution_count": null,
   "id": "8zsv1T3Z1h0m",
   "metadata": {
    "execution": {},
    "executionInfo": {
     "elapsed": 1958,
     "status": "ok",
     "timestamp": 1682540361880,
     "user": {
      "displayName": "Sloane Garelick",
      "userId": "04706287370408131987"
     },
     "user_tz": 240
    }
   },
   "outputs": [],
   "source": [
    "from IPython.display import Math\n",
    "from IPython.display import display, HTML, Image\n",
    "import seaborn as sns\n",
    "import matplotlib.pyplot as pl\n",
    "import pandas as pd\n",
    "import numpy as np\n",
    "from ipywidgets import interact\n",
    "import ipywidgets as widgets\n",
    "import os\n",
    "import pooch"
   ]
  },
  {
   "cell_type": "markdown",
   "id": "Uvdha4H6194W",
   "metadata": {
    "execution": {}
   },
   "source": [
    "figure settings"
   ]
  },
  {
   "cell_type": "code",
   "execution_count": null,
   "id": "i1QUDH0f2CsZ",
   "metadata": {
    "execution": {},
    "executionInfo": {
     "elapsed": 534,
     "status": "ok",
     "timestamp": 1682540371602,
     "user": {
      "displayName": "Sloane Garelick",
      "userId": "04706287370408131987"
     },
     "user_tz": 240
    }
   },
   "outputs": [],
   "source": [
    "sns.set_style(\"ticks\", {'axes.grid': False})\n",
    "%matplotlib inline\n",
    "display(HTML(\"<style>.container { width:100% !important; }</style>\"))\n",
    "params = {'lines.linewidth': '3'}\n",
    "pl.rcParams.update(params)"
   ]
  },
  {
   "cell_type": "markdown",
   "id": "r9yeYA981sXx",
   "metadata": {
    "execution": {}
   },
   "source": [
    "Mount local drive"
   ]
  },
  {
   "cell_type": "markdown",
   "metadata": {},
   "source": [
    "##  Figure functions\n"
   ]
  },
  {
   "cell_type": "markdown",
   "metadata": {},
   "source": [
    "###  Figure functions\n"
   ]
  },
  {
   "cell_type": "markdown",
   "metadata": {},
   "source": [
    "####  Figure functions\n"
   ]
  },
  {
   "cell_type": "markdown",
   "metadata": {},
   "source": [
    "#####  Figure functions\n"
   ]
  },
  {
   "cell_type": "markdown",
   "metadata": {},
   "source": [
    "######  Figure functions\n"
   ]
  },
  {
   "cell_type": "markdown",
   "metadata": {},
   "source": [
    "#######  Figure functions\n"
   ]
  },
  {
   "cell_type": "markdown",
   "metadata": {},
   "source": [
    "########  Figure functions\n"
   ]
  },
  {
   "cell_type": "markdown",
   "metadata": {},
   "source": [
    "#########  Figure functions\n"
   ]
  },
  {
   "cell_type": "markdown",
   "metadata": {},
   "source": [
    "##########  Figure functions\n"
   ]
  },
  {
   "cell_type": "markdown",
   "metadata": {},
   "source": [
    "###########  Figure functions\n"
   ]
  },
  {
   "cell_type": "markdown",
   "metadata": {},
   "source": [
    "############  Figure functions\n"
   ]
  },
  {
   "cell_type": "code",
   "execution_count": null,
   "id": "NRizLOHHmofT",
   "metadata": {
    "cellView": "form",
    "execution": {},
    "executionInfo": {
     "elapsed": 240,
     "status": "ok",
     "timestamp": 1682540400735,
     "user": {
      "displayName": "Sloane Garelick",
      "userId": "04706287370408131987"
     },
     "user_tz": 240
    },
    "tags": [
     "hide-input"
    ]
   },
   "outputs": [],
   "source": [
    "#@title Figure functions\n",
    "def plot_IPCC_data(ax, ax_idx,varstr):\n",
    "  fname_mapping = {\n",
    "    \"iamc_db_CO2.xlsx\": \"https://osf.io/gcb79/download\",\n",
    "    \"iamc_db_forcing.xlsx\": \"https://osf.io/tkrf7/download\",\n",
    "    \"iamc_db_pop.xlsx\": \"https://osf.io/ed9aq/download\",\n",
    "  }\n",
    "  fname = \"iamc_db_\" + varstr + \".xlsx\"\n",
    "  url = fname_mapping.get(fname)\n",
    "  if url is None:\n",
    "    raise FileNotFoundError\n",
    "  if not os.path.exists(fname):\n",
    "    fname = pooch.retrieve(url, known_hash=None)\n",
    "\n",
    "  IAMdf = pd.read_excel(fname)\n",
    "  IAMdf.drop(IAMdf.tail(2).index,inplace = True)  # excel file has 2 trailing rows of notes\n",
    "  IAMdf.drop(['Model','Region','Variable','Unit','Notes'],axis=1,inplace =True) #remove columns we won't need\n",
    "\n",
    "  # The data is in wideform (years are columns).\n",
    "  # Longform (year of each datum as a column) is more convenient.\n",
    "  # To collapse it to longform we'll use the `pd.wide_to_long` method that requires the following reformatting\n",
    "  IAMdf.rename(columns=dict(zip(IAMdf.columns[1:],[varstr+str(y) for y in IAMdf.columns[1:]])),inplace=True) #add 'pop' to the year columns to tell the method which columns to map\n",
    "  IAMdf.index = IAMdf.index.set_names(['id']) #name index\n",
    "  IAMdf=IAMdf.reset_index() #make index a column\n",
    "  IAMdf=pd.wide_to_long(IAMdf, [varstr], i='id', j=\"year\")\n",
    "\n",
    "  IAMdf=IAMdf.reset_index().drop('id',axis=1) #do some post mapping renaming\n",
    "  IAMdf.year=IAMdf.year.apply(int) #turn year data from string to int\n",
    "  if varstr=='pop':\n",
    "    IAMdf[varstr]=1e6*IAMdf[varstr] #pop is in millions\n",
    "    IAMpopdf=IAMdf.copy()\n",
    "  elif varstr=='CO2':\n",
    "    IAMdf[varstr]=1e6*IAMdf[varstr] #CO2 is in Mt CO2/yr\n",
    "    IAMCO2df=IAMdf\n",
    "  else:\n",
    "    IAMforcingdf=IAMdf # forcing in W/m2\n",
    "  sns.lineplot(ax=ax[ax_idx],data=IAMdf,x='year',y=varstr,hue='Scenario') # plot the data\n",
    "\n",
    "def run_and_plot(world3, nri_factor=1, new_lifetime_industrial_capital=14):\n",
    "    # nonrenewable resources initial [resource units]\n",
    "    world3.init_world3_constants(\n",
    "        nri=nri_factor*1e12, alic1=14, alic2=new_lifetime_industrial_capital)\n",
    "    world3.init_world3_variables()\n",
    "    world3.set_world3_table_functions()\n",
    "    world3.set_world3_delay_functions()\n",
    "    world3.run_world3(fast=False)\n",
    "\n",
    "    # select model variables to plot\n",
    "    variables = [world3.nrfr, world3.iopc, world3.fpc,\n",
    "                 world3.pop, world3.ppolx, world3.d, world3.cdr]\n",
    "    variable_labels = [\"NRFR\",  # nonrenewable resource fraction remaining\n",
    "                       # industrial output per capita [dollars/person-year]\n",
    "                       \"IOPC\",\n",
    "                       # food production per capita [vegetable-equivalent kilograms/person-year]\n",
    "                       \"FPC\",\n",
    "                       \"POP\",  # population [persons]\n",
    "                       \"PPOLX\",  # index of persistent pollution\n",
    "                                # (fraction of peristent pollution in 1970 = 1.36e8 pollution units)\n",
    "                       \"deaths\",\n",
    "                       \"deathrate\\n/1000\"]\n",
    "    variable_limits = [[0, 1], [0, 1e3], [0, 1e3], [\n",
    "        0, 16e9], [0, 32], [0, 5e8], [0, 250]]  # y axis ranges\n",
    "\n",
    "    plot_world_variables(world3.time, variables, variable_labels, variable_limits,\n",
    "                         img_background=None,  # ./img/fig7-7.png\",\n",
    "                         figsize=[4+len(variables), 7],\n",
    "                         title=\"initial non-renewable resources=\" + \\\n",
    "                         str(nri_factor)+\"*1e12\",\n",
    "                         grid=True)\n",
    "\n",
    "    # overlay an SSP projection\n",
    "    scenario_name='SSP2-Baseline'\n",
    "    fname = \"iamc_db_pop.xlsx\"\n",
    "    url = \"https://osf.io/ed9aq/download\"\n",
    "    if not os.path.exists(fname):\n",
    "        fname = pooch.retrieve(url, known_hash=None)\n",
    "\n",
    "    IAMdf = pd.read_excel(fname)\n",
    "    # IAMpopdf['pop']=1e6*IAMpopdf['pop'] #pop is in millions\n",
    "    IAMdf.drop(IAMdf.tail(2).index,inplace = True)  # excel file has 2 trailing rows of notes\n",
    "    IAMdf.drop(['Model','Region','Variable','Unit','Notes'],axis=1,inplace =True) #remove columns we won't need\n",
    "\n",
    "    # The data is in wideform (years are columns).\n",
    "    # Longform (year of each datum as a column) is more convenient.\n",
    "    # To collapse it to longform we'll use the `pd.wide_to_long` method that requires the following reformatting\n",
    "    IAMdf.rename(columns=dict(zip(IAMdf.columns[1:],['pop'+str(y) for y in IAMdf.columns[1:]])),inplace=True) #add 'pop' to the year columns to tell the method which columns to map\n",
    "    IAMdf.index = IAMdf.index.set_names(['id']) #name index\n",
    "    IAMdf=IAMdf.reset_index() #make index a column\n",
    "    IAMdf=pd.wide_to_long(IAMdf, ['pop'], i='id', j=\"year\")\n",
    "\n",
    "    IAMdf=IAMdf.reset_index().drop('id',axis=1) #do some post mapping renaming\n",
    "    IAMdf.year=IAMdf.year.apply(int) #turn year data from string to int\n",
    "    year_data = IAMdf.loc[IAMdf.Scenario==scenario_name,'year']\n",
    "    var_data = IAMdf.loc[IAMdf.Scenario==scenario_name,'pop']\n",
    "    axs = pl.gcf().axes\n",
    "    axs[variable_labels.index('POP')].plot(year_data,var_data, 'r--', label=scenario_name)\n",
    "    axs[variable_labels.index('POP')].legend(frameon=False)"
   ]
  },
  {
   "cell_type": "markdown",
   "id": "iA4F5e7vrud2",
   "metadata": {
    "execution": {}
   },
   "source": [
    "# Section 1: Peak at the IPCCs Socioeconomic projections\n",
    "\n",
    "In subsequent tutorials, we will play with Integrated Assessment Models, the standard class of models used to make climate change projections. \n",
    "\n",
    "Here, let's start by just looking at some of their model output to motivate us looking at `World3` which gives similar socioeconomic output.\n",
    "\n",
    "All data from the main simulations of the IAMs used in the IPCC reports is freely available for viewing at https://tntcat.iiasa.ac.at/.\n",
    "If you give them only an email, you can download any data you select. I downloaded \n",
    "- world population, \n",
    "- total CO<sub>2</sub> emissions (harmonized), and\n",
    "- climate forcing\n",
    "\n",
    "The files all download with the same name, `iamc_db.xlsx`, so I appended '_pop','_CO2', and '_forcing' to distinguish them. I put these files in the local folder. Let's load and plot that data here using a plotting function that you don't need to understand, which is defined in the plotting functions section above."
   ]
  },
  {
   "cell_type": "code",
   "execution_count": null,
   "id": "MxYat-fh2ka9",
   "metadata": {
    "execution": {},
    "executionInfo": {
     "elapsed": 7367,
     "status": "ok",
     "timestamp": 1682540448015,
     "user": {
      "displayName": "Sloane Garelick",
      "userId": "04706287370408131987"
     },
     "user_tz": 240
    }
   },
   "outputs": [],
   "source": [
    "varstrs=['forcing','pop','CO2']\n",
    "axis_size=4\n",
    "fig,ax=pl.subplots(1,len(varstrs),figsize=(axis_size*len(varstrs),axis_size))\n",
    "for ax_idx,varstr in enumerate(varstrs):\n",
    "  plot_IPCC_data(ax, ax_idx,varstr)"
   ]
  },
  {
   "cell_type": "markdown",
   "id": "2eKbbM-g6Vai",
   "metadata": {
    "execution": {}
   },
   "source": [
    "So far you have seen how forcing as an input to a climate model leads to temperature increases and other climate effects like changes in precipitation.\n",
    "The IAM projections that use these forcings profiles feed the temperature effects into a socioeconomic model component that evolves our population and the amount of emissions we produce consistent with the forcing for that scenario. There are 5 main scenarios (called *socioeconomic pathways*) that the IPCC considers (that's what the different colors are in the above plots). We'll get into all those details in a subsequent tutorial. \n",
    "\n",
    "# Section 2: World Models and World3\n",
    "Here, we want to step back from IAMs and use another model class, world models, to first explore how socioeconomic system variables like population, capital and pollution co-evolve. "
   ]
  },
  {
   "cell_type": "markdown",
   "id": "UU_Vc35qk0hl",
   "metadata": {
    "execution": {}
   },
   "source": [
    "*   World models are another modelling tradition separate from the policy optimization found in an Integrated Assessment Model. \n",
    "*   World models are literally that, a model of the world in which all variables are endogeneous, *i.e.* the model is self-contained and simply runs as a dynamical system, i.e. given equations of rates of change of the variables and an initial condition to start them from.\n",
    "*   The important variables in a world model are similar to those of Integrated Assessment Models: capital, production, population, pollution etc. \n",
    "*   `World3` is a world model that was developed in the 1970s and doesn't have an explicit climate component (perhaps its developers were unaware of climate change at the time, as many were back then). \n",
    "*   `World3` does have a *pollution* variable that is driven by industrial activity, and this pollution negatively impacts food production and directly increases mortality rates via health effects.\n",
    "*   If we were developing `World3` today with our knowledge of human-driven climate change, we would add greenhouse gas emissions as a component of the pollution variable, which is the place in `World3` representing the damaging waste of our industrial activity.  \n",
    "*   The reason we are looking at `World3` here in this first tutorial, is that:\n",
    "1.  `World3` is a instructive world model of the resource depletion and pollution problem. These problems are prior to climate change in that they encapsulate it, and understanding them helps us understand the socioeconomic forces at work in driving the emissions that are the source of the climate change problem.\n",
    "2. World models provide an alternative modelling tradition not steeped in the neoclassical economics on which IAMs are based. This provides some diversity in perspective.\n",
    "*   N.B. the model is not only wrong (i.e. missing many variables), but is a poor idealization, i.e. not necessarily even qualitatively predictive because it is missing some determining variables/model features (e.g. technology innovation/adaptation). It is thus almost certainly not predictive, but is still useful in starting to think about 'world systems' because it includes important relationships between some important natural and socio-economic variables that we will look at here. To be fair, one could also criticize IAMs for lacking important variables, as we will see in future tutorials."
   ]
  },
  {
   "cell_type": "markdown",
   "id": "TxRZr3mHIPhb",
   "metadata": {
    "execution": {}
   },
   "source": [
    "OKay, so welcome to World3! Here's a stock-flow diagram of the full model:"
   ]
  },
  {
   "cell_type": "code",
   "execution_count": null,
   "id": "65f67f6e",
   "metadata": {
    "execution": {},
    "executionInfo": {
     "elapsed": 2203,
     "status": "ok",
     "timestamp": 1682540473951,
     "user": {
      "displayName": "Sloane Garelick",
      "userId": "04706287370408131987"
     },
     "user_tz": 240
    }
   },
   "outputs": [],
   "source": [
    "fname = 'flows_diagram.png'\n",
    "if not os.path.exists(fname):\n",
    "    url = \"https://osf.io/hzrsn/download\"\n",
    "    fname = pooch.retrieve(url, known_hash=None, fname=fname)\n",
    "display(Image(filename=fname, width=1000, unconfined=True))\n",
    "# copyrighted image from the textbook:\n",
    "# Meadows, D.L.; Behrens, W.W.; Meadows, D.L.; Naill, R.F.; Randers, J.; Zahn, E.K.O. The Dynamics of Growth in a Finite World; Wright-Allen Press: Cambridge, MA, USA, 1974.\n",
    "# HTML Source: https://www.mdpi.com/sustainability/sustainability-07-09864/article_deploy/html/images/sustainability-07-09864-g001.png\n",
    "# We could just link to it?\n",
    "# Or the precursor model: Jay Forrester's world dynamic model: https://petterholdotme.files.wordpress.com/2022/04/world-dynamics.png"
   ]
  },
  {
   "cell_type": "markdown",
   "id": "6014eee7",
   "metadata": {
    "execution": {}
   },
   "source": [
    "WOw! that's a lot of variables!\n",
    "\n",
    "*Exercise*: increase width to 3000 and scroll around to read the node labels of the different parts of the model. Can you group them into broader categories?"
   ]
  },
  {
   "cell_type": "markdown",
   "id": "5b59aa71",
   "metadata": {
    "execution": {}
   },
   "source": [
    "Here is a reduced diagram containing only some major variables and thier couplings:"
   ]
  },
  {
   "cell_type": "code",
   "execution_count": null,
   "id": "d218991e",
   "metadata": {
    "execution": {},
    "executionInfo": {
     "elapsed": 603,
     "status": "ok",
     "timestamp": 1682540490373,
     "user": {
      "displayName": "Sloane Garelick",
      "userId": "04706287370408131987"
     },
     "user_tz": 240
    }
   },
   "outputs": [],
   "source": [
    "fname = 'major_flows_diagram.png'\n",
    "if not os.path.exists(fname):\n",
    "    url = \"https://osf.io/h3mj2/download\"\n",
    "    fname = pooch.retrieve(url, known_hash=None, fname=fname)\n",
    "display(Image(filename=fname, width=250, unconfined=True))\n",
    "\n",
    "#modified from another copyrighted image from Limits To Growth (1972, page 97). This woudl be easy to reproduce"
   ]
  },
  {
   "cell_type": "markdown",
   "id": "l87rJWT5pwnG",
   "metadata": {
    "execution": {}
   },
   "source": [
    "Follow the dependencies. E.g. industrial capital grows wtih investment and produces industrial output that generates pollution and argicultural capital. Along with cultivated land, the latter generate food. Increasing pollution and decreasing (-) food per capita drive up mortality, which decreases population via the deaths per year, while fertility increases population via births per year."
   ]
  },
  {
   "cell_type": "markdown",
   "id": "Hf3NItAL2qYj",
   "metadata": {
    "execution": {}
   },
   "source": [
    "# Section 3: Pyworld3"
   ]
  },
  {
   "cell_type": "markdown",
   "id": "ec4388ea",
   "metadata": {
    "execution": {}
   },
   "source": [
    "We'll be using a nice python implementation of this model called `pyworld3` that is openly accessible: https://github.com/cvanwynsberghe/pyworld3."
   ]
  },
  {
   "cell_type": "code",
   "execution_count": null,
   "id": "ceb81852",
   "metadata": {
    "execution": {},
    "executionInfo": {
     "elapsed": 5836,
     "status": "ok",
     "timestamp": 1682540547751,
     "user": {
      "displayName": "Sloane Garelick",
      "userId": "04706287370408131987"
     },
     "user_tz": 240
    },
    "tags": [
     "colab"
    ]
   },
   "outputs": [],
   "source": [
    "# !pip install pyworld3\n",
    "# # if running locally (i.e. into in collab) run this instead:\n",
    "# import sys\n",
    "# !{sys.executable} - m pip install pyworld3"
   ]
  },
  {
   "cell_type": "markdown",
   "id": "6a16f856",
   "metadata": {
    "execution": {}
   },
   "source": [
    "load the model"
   ]
  },
  {
   "cell_type": "code",
   "execution_count": null,
   "id": "eb8ec62c",
   "metadata": {
    "execution": {}
   },
   "outputs": [],
   "source": [
    "from pyworld3 import World3\n",
    "from pyworld3.utils import plot_world_variables"
   ]
  },
  {
   "cell_type": "markdown",
   "id": "fef13943",
   "metadata": {
    "execution": {}
   },
   "source": [
    "We've defined a useful plotting function that we will use that has two inputs we will vary: \n",
    "- the initial amount of non-renewable resources (`nri_factor`), and \n",
    "- a perturbed value of the lifetime of industrial capital to which the system will be perturbed at the perturbation year (`new_lifetime_industrial_capital`)"
   ]
  },
  {
   "cell_type": "markdown",
   "id": "32de7fbe",
   "metadata": {
    "execution": {}
   },
   "source": [
    "Let's also set the year up to which we want to run the simulations"
   ]
  },
  {
   "cell_type": "code",
   "execution_count": null,
   "id": "860dbb98",
   "metadata": {
    "execution": {}
   },
   "outputs": [],
   "source": [
    "maxyear = 2100"
   ]
  },
  {
   "cell_type": "markdown",
   "id": "0f3c6305",
   "metadata": {
    "execution": {}
   },
   "source": [
    "## Case 1: original (Business-As-Usual - BAU) model parameters"
   ]
  },
  {
   "cell_type": "code",
   "execution_count": null,
   "id": "f646a99e",
   "metadata": {
    "execution": {},
    "executionInfo": {
     "elapsed": 6633,
     "status": "ok",
     "timestamp": 1681919663027,
     "user": {
      "displayName": "Maximilian Puelma Touzel",
      "userId": "09308600515315501700"
     },
     "user_tz": 240
    }
   },
   "outputs": [],
   "source": [
    "world3 = World3(year_max=maxyear)\n",
    "run_and_plot(world3)\n",
    "# pl.savefig(\"world3_timeseries_case_1.png\",transparent=True,bbox_inches=\"tight\",dpi=300)"
   ]
  },
  {
   "cell_type": "markdown",
   "id": "b4c58f02",
   "metadata": {
    "execution": {}
   },
   "source": [
    "Observe how industrial output (rising orange), food per capita (rising green), and population (rising red) grow until diminishing non-renewable resources (falling blue) drive a fall in industrial production (falling orange). \n",
    "\n",
    "This tanks food production (falling green) and medical services which reverses the decreasing death rate trend (pink) and drops the population (falling red) over the second half of the 21st century.\n",
    "\n",
    "Here, the population projection for IPCC baseline scenario for SSP2 is shown as the red dashed line."
   ]
  },
  {
   "cell_type": "markdown",
   "id": "2d246e29",
   "metadata": {
    "execution": {}
   },
   "source": [
    "## Case 2: BAU3 - increased efficiency"
   ]
  },
  {
   "cell_type": "markdown",
   "id": "fabc9999",
   "metadata": {
    "execution": {}
   },
   "source": [
    "*Exercise*: Now, triple the initial resources, modelling the effect of increased efficiency in resource extraction (e.g. crop yields, as has been observed over the last decades, or \"learning-by-doing\" effect seen in the economics of many energy technologies)"
   ]
  },
  {
   "cell_type": "code",
   "execution_count": null,
   "id": "53b96171",
   "metadata": {
    "execution": {},
    "executionInfo": {
     "elapsed": 5525,
     "status": "ok",
     "timestamp": 1681919668522,
     "user": {
      "displayName": "Maximilian Puelma Touzel",
      "userId": "09308600515315501700"
     },
     "user_tz": 240
    }
   },
   "outputs": [],
   "source": [
    "run_and_plot(world3, nri_factor=3)\n",
    "# pl.savefig(\"world3_timeseries_case_2.png\",transparent=True,bbox_inches=\"tight\",dpi=300)"
   ]
  },
  {
   "cell_type": "markdown",
   "id": "588eee43",
   "metadata": {
    "execution": {}
   },
   "source": [
    "Observe that the crash in industrial output still occurs for this larger resource pool, only now delayed (here by a few decades). Unlike the previous case, soaring pollution (purple) from those extra decades of exponential industrial output precipitates a faster and larger (relative to case 1) population crash starting mid-century."
   ]
  },
  {
   "cell_type": "markdown",
   "id": "7db71fa7",
   "metadata": {
    "execution": {}
   },
   "source": [
    "## Case 3: BAU3 with active cap on production"
   ]
  },
  {
   "cell_type": "markdown",
   "id": "d3fd0b56",
   "metadata": {
    "execution": {}
   },
   "source": [
    "*Exercise*: Turn down production abruptly via a step decrease in the lifetime of industrial capital (from 14 to 8 years occuring at 2025).\n",
    "(see Rozenberg et al. *Environ. Res. Lett.* (2015) for an IAM analysis of transitioning with reductions in lifetime capital)"
   ]
  },
  {
   "cell_type": "code",
   "execution_count": null,
   "id": "51ed70f5",
   "metadata": {
    "execution": {},
    "executionInfo": {
     "elapsed": 10307,
     "status": "ok",
     "timestamp": 1681919678822,
     "user": {
      "displayName": "Maximilian Puelma Touzel",
      "userId": "09308600515315501700"
     },
     "user_tz": 240
    }
   },
   "outputs": [],
   "source": [
    "world3 = World3(pyear=2025, year_max=2100)\n",
    "run_and_plot(world3, nri_factor=3, new_lifetime_industrial_capital=8)\n",
    "# pl.savefig(\"world3_timeseries_case_3.png\",transparent=True,bbox_inches=\"tight\",dpi=300)"
   ]
  },
  {
   "cell_type": "markdown",
   "id": "8551873d",
   "metadata": {
    "execution": {}
   },
   "source": [
    "Observe that turning down production limits pollution, which limits the drop in population to a (transient) plateau and leaves intact a significant amount of non-renewable resources (e.g. ecosystems). However, the asymptotic death rate eventually creeps up to that of case 2."
   ]
  },
  {
   "cell_type": "markdown",
   "id": "759bcdbd",
   "metadata": {
    "execution": {}
   },
   "source": [
    "Dropping industrial output affects our ability to develop new technologies, e.g. those needed for decarbonization (c.f. the article *Decarbonizing the downturn: Addressing climate change in an age of stagnation* by Copley et al. *Competition & Change*, 2022). This stagnation scenario is a central challenge we face in the narrative of Shared Socio-economic Pathway 3 (SSP3 *Regional Rivary*)."
   ]
  },
  {
   "cell_type": "markdown",
   "id": "d55e6087",
   "metadata": {
    "execution": {}
   },
   "source": [
    "Activity Questions:\n",
    "- What scenarios can you think of that would lead to such a drop in the lifetime of industrial capital?\n",
    "- What are some important features of the world/society/the economy that you think this model is missing? Do you have ideas for how to implement them here?"
   ]
  },
  {
   "cell_type": "markdown",
   "id": "5680c6c0",
   "metadata": {
    "execution": {}
   },
   "source": [
    "Model Limitations\n",
    "- no spatial structure: spatial structure is important! (allows for distinct regional solutions that aid or hinder global cooperation, c.f. emergence of cooperation in game theory).\n",
    "- ignores technology innovation, in particular that focussed on adaptation and mitigation\n",
    "- *ad hoc* setting of relationship between economic growth, investment in health services, and changes in life expectancy\n",
    "- only includes a monolithic non-renewable resource (e.g. doesn't breakdown the resource into renewable & nonrenewable classes)\n",
    "- ...probably lots more!"
   ]
  },
  {
   "cell_type": "markdown",
   "id": "T6FlESo8PJSN",
   "metadata": {
    "execution": {}
   },
   "source": [
    "---\n",
    "# Appendix"
   ]
  },
  {
   "cell_type": "markdown",
   "id": "7aa72216",
   "metadata": {
    "execution": {}
   },
   "source": [
    "For easy reference, here is the validity analyses presented in the pyworld3 github repository. These are standard parameter runs of the model overlayed with those of original implementation to show validity of the `pyworld3` package implementation"
   ]
  },
  {
   "cell_type": "code",
   "execution_count": null,
   "id": "cb9b237a",
   "metadata": {
    "execution": {}
   },
   "outputs": [],
   "source": [
    "world3 = World3()\n",
    "# nonrenewable resources initial [resource units]\n",
    "world3.init_world3_constants()\n",
    "world3.init_world3_variables()\n",
    "world3.set_world3_table_functions()\n",
    "world3.set_world3_delay_functions()\n",
    "world3.run_world3(fast=False)"
   ]
  },
  {
   "cell_type": "code",
   "execution_count": null,
   "id": "6879f4df",
   "metadata": {
    "execution": {},
    "executionInfo": {
     "elapsed": 576,
     "status": "ok",
     "timestamp": 1681919819829,
     "user": {
      "displayName": "Maximilian Puelma Touzel",
      "userId": "09308600515315501700"
     },
     "user_tz": 240
    }
   },
   "outputs": [],
   "source": [
    "fname = \"fig7-7.png\"\n",
    "if not os.path.exists(fname):\n",
    "    url = \"https://osf.io/r4npd/download\"\n",
    "    fname = pooch.retrieve(url, known_hash=None, fname=fname)\n",
    "plot_world_variables(world3.time,\n",
    "                     [world3.nrfr, world3.iopc, world3.fpc, world3.pop,\n",
    "                      world3.ppolx],\n",
    "                     [\"NRFR\", \"IOPC\", \"FPC\", \"POP\", \"PPOLX\"],\n",
    "                     [[0, 1], [0, 1e3], [0, 1e3], [0, 16e9], [0, 32]],\n",
    "                     img_background=fname,\n",
    "                     figsize=(7, 5),\n",
    "                     title=None,\n",
    "                     grid=True)"
   ]
  },
  {
   "cell_type": "code",
   "execution_count": null,
   "id": "81110056",
   "metadata": {
    "execution": {},
    "executionInfo": {
     "elapsed": 1326,
     "status": "ok",
     "timestamp": 1681919839554,
     "user": {
      "displayName": "Maximilian Puelma Touzel",
      "userId": "09308600515315501700"
     },
     "user_tz": 240
    }
   },
   "outputs": [],
   "source": [
    "fname = \"fig7-8.png\"\n",
    "if not os.path.exists(fname):\n",
    "    url = \"https://osf.io/d6gz2/download\"\n",
    "    fname = pooch.retrieve(url, known_hash=None, fname=fname)\n",
    "plot_world_variables(world3.time,\n",
    "                     [world3.fcaor, world3.io, world3.tai, world3.aiph,\n",
    "                      world3.fioaa],\n",
    "                     [\"FCAOR\", \"IO\", \"TAI\", \"AI\", \"FIOAA\"],\n",
    "                     [[0, 1], [0, 4e12], [0, 4e12], [0, 2e2], [0, 0.201]],\n",
    "                     img_background=fname,\n",
    "                     figsize=(7, 5),\n",
    "                     title=\"World3 standard run - Capital sector\")"
   ]
  },
  {
   "cell_type": "code",
   "execution_count": null,
   "id": "dbbd2e9b",
   "metadata": {
    "execution": {},
    "executionInfo": {
     "elapsed": 1494,
     "status": "ok",
     "timestamp": 1681919847704,
     "user": {
      "displayName": "Maximilian Puelma Touzel",
      "userId": "09308600515315501700"
     },
     "user_tz": 240
    }
   },
   "outputs": [],
   "source": [
    "fname = \"fig7-9.png\"\n",
    "if not os.path.exists(fname):\n",
    "    url = \"https://osf.io/t2qdm/download\"\n",
    "    fname = pooch.retrieve(url, known_hash=None, fname=fname)\n",
    "plot_world_variables(world3.time,\n",
    "                     [world3.ly, world3.al, world3.fpc, world3.lmf,\n",
    "                      world3.pop],\n",
    "                     [\"LY\", \"AL\", \"FPC\", \"LMF\", \"POP\"],\n",
    "                     [[0, 4e3], [0, 4e9], [0, 8e2], [0, 1.6], [0, 16e9]],\n",
    "                     img_background=fname,\n",
    "                     figsize=(7, 5),\n",
    "                     title=\"World3 standard run - Agriculture sector\")"
   ]
  }
 ],
 "metadata": {
  "colab": {
   "collapsed_sections": [],
   "include_colab_link": true,
   "name": "W2D3_Tutorial1",
   "provenance": [],
   "toc_visible": true
  },
  "kernel": {
   "display_name": "Python 3",
   "language": "python",
   "name": "python3"
  },
  "kernelspec": {
   "display_name": "Python 3 (ipykernel)",
   "language": "python",
   "name": "python3"
  },
  "language_info": {
   "codemirror_mode": {
    "name": "ipython",
    "version": 3
   },
   "file_extension": ".py",
   "mimetype": "text/x-python",
   "name": "python",
   "nbconvert_exporter": "python",
   "pygments_lexer": "ipython3",
   "version": "3.10.8"
  }
 },
 "nbformat": 4,
 "nbformat_minor": 5
}